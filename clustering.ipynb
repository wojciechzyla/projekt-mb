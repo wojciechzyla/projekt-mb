{
 "cells": [
  {
   "cell_type": "code",
   "execution_count": 6,
   "metadata": {},
   "outputs": [],
   "source": [
    "import pm4py\n",
    "from collections import Counter\n",
    "\n",
    "from sklearn.cluster import DBSCAN, KMeans\n",
    "\n",
    "log_path = \"logs/running-example.jsonocel\"\n",
    "ocel = pm4py.read_ocel_json(log_path)"
   ]
  },
  {
   "cell_type": "code",
   "execution_count": 7,
   "metadata": {},
   "outputs": [
    {
     "data": {
      "text/plain": [
       "{'items': 0, 'orders': 1, 'products': 2, 'customers': 3, 'packages': 4}"
      ]
     },
     "execution_count": 7,
     "metadata": {},
     "output_type": "execute_result"
    }
   ],
   "source": [
    "object_types = list(set(ocel.objects[\"ocel:type\"]))\n",
    "object_type_to_id = {k:i for i, k in enumerate(object_types)}\n",
    "object_type_to_id"
   ]
  },
  {
   "cell_type": "code",
   "execution_count": 8,
   "metadata": {},
   "outputs": [
    {
     "data": {
      "text/html": [
       "<div>\n",
       "<style scoped>\n",
       "    .dataframe tbody tr th:only-of-type {\n",
       "        vertical-align: middle;\n",
       "    }\n",
       "\n",
       "    .dataframe tbody tr th {\n",
       "        vertical-align: top;\n",
       "    }\n",
       "\n",
       "    .dataframe thead th {\n",
       "        text-align: right;\n",
       "    }\n",
       "</style>\n",
       "<table border=\"1\" class=\"dataframe\">\n",
       "  <thead>\n",
       "    <tr style=\"text-align: right;\">\n",
       "      <th></th>\n",
       "      <th>ocel:oid</th>\n",
       "      <th>ocel:type</th>\n",
       "      <th>cost</th>\n",
       "      <th>producer</th>\n",
       "      <th>age</th>\n",
       "      <th>bankaccount</th>\n",
       "    </tr>\n",
       "  </thead>\n",
       "  <tbody>\n",
       "    <tr>\n",
       "      <th>20</th>\n",
       "      <td>Marco Pegoraro</td>\n",
       "      <td>customers</td>\n",
       "      <td>NaN</td>\n",
       "      <td>NaN</td>\n",
       "      <td>50.0</td>\n",
       "      <td>91248.0</td>\n",
       "    </tr>\n",
       "    <tr>\n",
       "      <th>21</th>\n",
       "      <td>Gyunam Park</td>\n",
       "      <td>customers</td>\n",
       "      <td>NaN</td>\n",
       "      <td>NaN</td>\n",
       "      <td>55.0</td>\n",
       "      <td>27275.0</td>\n",
       "    </tr>\n",
       "    <tr>\n",
       "      <th>22</th>\n",
       "      <td>Majid Rafiei</td>\n",
       "      <td>customers</td>\n",
       "      <td>NaN</td>\n",
       "      <td>NaN</td>\n",
       "      <td>46.0</td>\n",
       "      <td>74370.0</td>\n",
       "    </tr>\n",
       "    <tr>\n",
       "      <th>23</th>\n",
       "      <td>Junxiong Gao</td>\n",
       "      <td>customers</td>\n",
       "      <td>NaN</td>\n",
       "      <td>NaN</td>\n",
       "      <td>52.0</td>\n",
       "      <td>96270.0</td>\n",
       "    </tr>\n",
       "    <tr>\n",
       "      <th>24</th>\n",
       "      <td>Seran Uysal</td>\n",
       "      <td>customers</td>\n",
       "      <td>NaN</td>\n",
       "      <td>NaN</td>\n",
       "      <td>40.0</td>\n",
       "      <td>69940.0</td>\n",
       "    </tr>\n",
       "    <tr>\n",
       "      <th>25</th>\n",
       "      <td>Christina Rensinghof</td>\n",
       "      <td>customers</td>\n",
       "      <td>NaN</td>\n",
       "      <td>NaN</td>\n",
       "      <td>41.0</td>\n",
       "      <td>17020.0</td>\n",
       "    </tr>\n",
       "    <tr>\n",
       "      <th>26</th>\n",
       "      <td>Wil van der Aalst</td>\n",
       "      <td>customers</td>\n",
       "      <td>NaN</td>\n",
       "      <td>NaN</td>\n",
       "      <td>34.0</td>\n",
       "      <td>48846.0</td>\n",
       "    </tr>\n",
       "    <tr>\n",
       "      <th>27</th>\n",
       "      <td>Christine Dobbert</td>\n",
       "      <td>customers</td>\n",
       "      <td>NaN</td>\n",
       "      <td>NaN</td>\n",
       "      <td>43.0</td>\n",
       "      <td>59702.0</td>\n",
       "    </tr>\n",
       "    <tr>\n",
       "      <th>28</th>\n",
       "      <td>Luis Santos</td>\n",
       "      <td>customers</td>\n",
       "      <td>NaN</td>\n",
       "      <td>NaN</td>\n",
       "      <td>48.0</td>\n",
       "      <td>37644.0</td>\n",
       "    </tr>\n",
       "    <tr>\n",
       "      <th>29</th>\n",
       "      <td>Kefang Ding</td>\n",
       "      <td>customers</td>\n",
       "      <td>NaN</td>\n",
       "      <td>NaN</td>\n",
       "      <td>38.0</td>\n",
       "      <td>76896.0</td>\n",
       "    </tr>\n",
       "    <tr>\n",
       "      <th>30</th>\n",
       "      <td>Mohammadreza Fani Sani</td>\n",
       "      <td>customers</td>\n",
       "      <td>NaN</td>\n",
       "      <td>NaN</td>\n",
       "      <td>51.0</td>\n",
       "      <td>61801.0</td>\n",
       "    </tr>\n",
       "    <tr>\n",
       "      <th>31</th>\n",
       "      <td>Tobias Brockhoff</td>\n",
       "      <td>customers</td>\n",
       "      <td>NaN</td>\n",
       "      <td>NaN</td>\n",
       "      <td>30.0</td>\n",
       "      <td>69038.0</td>\n",
       "    </tr>\n",
       "    <tr>\n",
       "      <th>32</th>\n",
       "      <td>Anahita Farhang Ghahfarokhi</td>\n",
       "      <td>customers</td>\n",
       "      <td>NaN</td>\n",
       "      <td>NaN</td>\n",
       "      <td>58.0</td>\n",
       "      <td>42513.0</td>\n",
       "    </tr>\n",
       "    <tr>\n",
       "      <th>33</th>\n",
       "      <td>Mahnaz Qafari</td>\n",
       "      <td>customers</td>\n",
       "      <td>NaN</td>\n",
       "      <td>NaN</td>\n",
       "      <td>40.0</td>\n",
       "      <td>83924.0</td>\n",
       "    </tr>\n",
       "    <tr>\n",
       "      <th>34</th>\n",
       "      <td>Claudia Graf</td>\n",
       "      <td>customers</td>\n",
       "      <td>NaN</td>\n",
       "      <td>NaN</td>\n",
       "      <td>54.0</td>\n",
       "      <td>29653.0</td>\n",
       "    </tr>\n",
       "    <tr>\n",
       "      <th>35</th>\n",
       "      <td>Mahsa Bafrani</td>\n",
       "      <td>customers</td>\n",
       "      <td>NaN</td>\n",
       "      <td>NaN</td>\n",
       "      <td>58.0</td>\n",
       "      <td>35775.0</td>\n",
       "    </tr>\n",
       "    <tr>\n",
       "      <th>36</th>\n",
       "      <td>Lisa Mannel</td>\n",
       "      <td>customers</td>\n",
       "      <td>NaN</td>\n",
       "      <td>NaN</td>\n",
       "      <td>51.0</td>\n",
       "      <td>44449.0</td>\n",
       "    </tr>\n",
       "  </tbody>\n",
       "</table>\n",
       "</div>"
      ],
      "text/plain": [
       "                       ocel:oid  ocel:type  cost producer   age  bankaccount\n",
       "20               Marco Pegoraro  customers   NaN      NaN  50.0      91248.0\n",
       "21                  Gyunam Park  customers   NaN      NaN  55.0      27275.0\n",
       "22                 Majid Rafiei  customers   NaN      NaN  46.0      74370.0\n",
       "23                 Junxiong Gao  customers   NaN      NaN  52.0      96270.0\n",
       "24                  Seran Uysal  customers   NaN      NaN  40.0      69940.0\n",
       "25         Christina Rensinghof  customers   NaN      NaN  41.0      17020.0\n",
       "26            Wil van der Aalst  customers   NaN      NaN  34.0      48846.0\n",
       "27            Christine Dobbert  customers   NaN      NaN  43.0      59702.0\n",
       "28                  Luis Santos  customers   NaN      NaN  48.0      37644.0\n",
       "29                  Kefang Ding  customers   NaN      NaN  38.0      76896.0\n",
       "30       Mohammadreza Fani Sani  customers   NaN      NaN  51.0      61801.0\n",
       "31             Tobias Brockhoff  customers   NaN      NaN  30.0      69038.0\n",
       "32  Anahita Farhang Ghahfarokhi  customers   NaN      NaN  58.0      42513.0\n",
       "33                Mahnaz Qafari  customers   NaN      NaN  40.0      83924.0\n",
       "34                 Claudia Graf  customers   NaN      NaN  54.0      29653.0\n",
       "35                Mahsa Bafrani  customers   NaN      NaN  58.0      35775.0\n",
       "36                  Lisa Mannel  customers   NaN      NaN  51.0      44449.0"
      ]
     },
     "execution_count": 8,
     "metadata": {},
     "output_type": "execute_result"
    }
   ],
   "source": [
    "ocel.objects[ocel.objects[\"ocel:type\"]==\"customers\"]"
   ]
  },
  {
   "cell_type": "code",
   "execution_count": 9,
   "metadata": {},
   "outputs": [
    {
     "data": {
      "text/plain": [
       "{'reorder item': 0,\n",
       " 'item out of stock': 1,\n",
       " 'failed delivery': 2,\n",
       " 'create package': 3,\n",
       " 'confirm order': 4,\n",
       " 'send package': 5,\n",
       " 'payment reminder': 6,\n",
       " 'place order': 7,\n",
       " 'pay order': 8,\n",
       " 'package delivered': 9,\n",
       " 'pick item': 10}"
      ]
     },
     "execution_count": 9,
     "metadata": {},
     "output_type": "execute_result"
    }
   ],
   "source": [
    "activity_to_numeric = {k:i for i, k in enumerate(list(set(ocel.events[\"ocel:activity\"])))}\n",
    "activity_to_numeric"
   ]
  },
  {
   "cell_type": "code",
   "execution_count": 10,
   "metadata": {},
   "outputs": [
    {
     "name": "stdout",
     "output_type": "stream",
     "text": [
      "1000.0\n",
      "2000.0\n",
      "3000.0\n",
      "4000.0\n",
      "5000.0\n",
      "6000.0\n",
      "7000.0\n",
      "8000.0\n",
      "9000.0\n",
      "10000.0\n",
      "11000.0\n",
      "12000.0\n",
      "13000.0\n",
      "14000.0\n",
      "15000.0\n",
      "16000.0\n",
      "17000.0\n",
      "18000.0\n",
      "19000.0\n",
      "20000.0\n",
      "21000.0\n",
      "22000.0\n"
     ]
    }
   ],
   "source": [
    "import numpy as np\n",
    "x = []\n",
    "event_ids = list(ocel.events[\"ocel:eid\"])\n",
    "for eid in event_ids:\n",
    "    eid_num = float(eid)\n",
    "    if eid_num%1000==0:\n",
    "        print(eid_num)\n",
    "    counted = Counter(ocel.relations[ocel.relations[\"ocel:eid\"]==eid][\"ocel:type\"])\n",
    "    event_vec = np.zeros(len(object_type_to_id)+1)\n",
    "    for k in counted.keys():\n",
    "        vec_id = object_type_to_id[k]\n",
    "        event_vec[vec_id] += counted[k]\n",
    "    activity = list(ocel.events[ocel.events[\"ocel:eid\"]==eid][\"ocel:activity\"])[0]\n",
    "    event_vec[len(object_type_to_id)] = activity_to_numeric[activity]\n",
    "    x.append(event_vec)\n",
    "x = np.array(x)"
   ]
  },
  {
   "cell_type": "code",
   "execution_count": 20,
   "metadata": {},
   "outputs": [],
   "source": [
    "from clustering_api import ClusteringOCEL\n",
    "\n",
    "dbscan1 = DBSCAN(eps=0.2, min_samples=5)\n",
    "dbscan2 = DBSCAN(eps=0.5, min_samples=5)\n",
    "kmeans = KMeans(n_clusters=6, init=\"k-means++\")\n",
    "ocel_dbscan1 = ClusteringOCEL(model=dbscan1, ocel=ocel, dataset_from_ocel=x)\n",
    "ocel_dbscan2 = ClusteringOCEL(model=dbscan2, ocel=ocel, dataset_from_ocel=x)\n",
    "ocel_kmeans = ClusteringOCEL(model=kmeans, ocel=ocel, dataset_from_ocel=x)"
   ]
  },
  {
   "cell_type": "code",
   "execution_count": 21,
   "metadata": {},
   "outputs": [
    {
     "name": "stdout",
     "output_type": "stream",
     "text": [
      "[0 1 2 3]\n"
     ]
    }
   ],
   "source": [
    "ocel_dbscan1.fit(normalize=True)\n",
    "print(ocel_dbscan1.unique_labels())"
   ]
  },
  {
   "cell_type": "code",
   "execution_count": 22,
   "metadata": {},
   "outputs": [
    {
     "name": "stdout",
     "output_type": "stream",
     "text": [
      "[0 1 2 3 4 5]\n"
     ]
    },
    {
     "name": "stderr",
     "output_type": "stream",
     "text": [
      "/Users/wojciechzyla/Desktop/AGH/semestr_8/MB/projekt-mb/env_mb/lib/python3.8/site-packages/sklearn/cluster/_kmeans.py:870: FutureWarning: The default value of `n_init` will change from 10 to 'auto' in 1.4. Set the value of `n_init` explicitly to suppress the warning\n",
      "  warnings.warn(\n"
     ]
    }
   ],
   "source": [
    "ocel_kmeans.fit(normalize=True)\n",
    "print(ocel_kmeans.unique_labels())"
   ]
  },
  {
   "cell_type": "code",
   "execution_count": 40,
   "metadata": {},
   "outputs": [],
   "source": [
    "from collections import defaultdict\n",
    "clusters = defaultdict(list)\n",
    "labels = ocel_dbscan1.model.labels_\n",
    "for i in range(labels.size):\n",
    "    clusters[labels[i]].append(ocel_dbscan1.ocel.events.iloc[i][\"ocel:eid\"])"
   ]
  },
  {
   "cell_type": "code",
   "execution_count": 41,
   "metadata": {},
   "outputs": [
    {
     "name": "stdout",
     "output_type": "stream",
     "text": [
      "0 ['1.0', '2.0', '3.0', '4.0', '5.0', '6.0', '7.0', '9.0', '11.0', '12.0']\n",
      "1 ['8.0', '10.0', '23.0', '37.0', '49.0', '56.0', '63.0', '64.0', '69.0', '76.0']\n",
      "2 ['26.0', '52.0', '89.0', '94.0', '98.0', '102.0', '114.0', '130.0', '131.0', '133.0']\n",
      "3 ['1488.0', '1557.0', '1612.0', '1656.0', '1687.0', '2372.0', '2404.0', '2456.0', '2551.0', '10352.0']\n"
     ]
    }
   ],
   "source": [
    "for k, v in clusters.items():\n",
    "    print(k, v[:10])"
   ]
  },
  {
   "cell_type": "code",
   "execution_count": 54,
   "metadata": {},
   "outputs": [
    {
     "data": {
      "text/html": [
       "<div>\n",
       "<style scoped>\n",
       "    .dataframe tbody tr th:only-of-type {\n",
       "        vertical-align: middle;\n",
       "    }\n",
       "\n",
       "    .dataframe tbody tr th {\n",
       "        vertical-align: top;\n",
       "    }\n",
       "\n",
       "    .dataframe thead th {\n",
       "        text-align: right;\n",
       "    }\n",
       "</style>\n",
       "<table border=\"1\" class=\"dataframe\">\n",
       "  <thead>\n",
       "    <tr style=\"text-align: right;\">\n",
       "      <th></th>\n",
       "      <th>ocel:eid</th>\n",
       "      <th>ocel:activity</th>\n",
       "      <th>ocel:timestamp</th>\n",
       "      <th>ocel:oid</th>\n",
       "      <th>ocel:type</th>\n",
       "      <th>ocel:qualifier</th>\n",
       "    </tr>\n",
       "  </thead>\n",
       "  <tbody>\n",
       "    <tr>\n",
       "      <th>11595</th>\n",
       "      <td>1488.0</td>\n",
       "      <td>failed delivery</td>\n",
       "      <td>2019-06-17 14:18:32</td>\n",
       "      <td>990119</td>\n",
       "      <td>orders</td>\n",
       "      <td>None</td>\n",
       "    </tr>\n",
       "    <tr>\n",
       "      <th>11596</th>\n",
       "      <td>1488.0</td>\n",
       "      <td>failed delivery</td>\n",
       "      <td>2019-06-17 14:18:32</td>\n",
       "      <td>iPad mini</td>\n",
       "      <td>products</td>\n",
       "      <td>None</td>\n",
       "    </tr>\n",
       "    <tr>\n",
       "      <th>11597</th>\n",
       "      <td>1488.0</td>\n",
       "      <td>failed delivery</td>\n",
       "      <td>2019-06-17 14:18:32</td>\n",
       "      <td>Marco Pegoraro</td>\n",
       "      <td>customers</td>\n",
       "      <td>None</td>\n",
       "    </tr>\n",
       "    <tr>\n",
       "      <th>11598</th>\n",
       "      <td>1488.0</td>\n",
       "      <td>failed delivery</td>\n",
       "      <td>2019-06-17 14:18:32</td>\n",
       "      <td>880486</td>\n",
       "      <td>items</td>\n",
       "      <td>None</td>\n",
       "    </tr>\n",
       "    <tr>\n",
       "      <th>11599</th>\n",
       "      <td>1488.0</td>\n",
       "      <td>failed delivery</td>\n",
       "      <td>2019-06-17 14:18:32</td>\n",
       "      <td>660078</td>\n",
       "      <td>packages</td>\n",
       "      <td>None</td>\n",
       "    </tr>\n",
       "  </tbody>\n",
       "</table>\n",
       "</div>"
      ],
      "text/plain": [
       "      ocel:eid    ocel:activity      ocel:timestamp        ocel:oid  \\\n",
       "11595   1488.0  failed delivery 2019-06-17 14:18:32          990119   \n",
       "11596   1488.0  failed delivery 2019-06-17 14:18:32       iPad mini   \n",
       "11597   1488.0  failed delivery 2019-06-17 14:18:32  Marco Pegoraro   \n",
       "11598   1488.0  failed delivery 2019-06-17 14:18:32          880486   \n",
       "11599   1488.0  failed delivery 2019-06-17 14:18:32          660078   \n",
       "\n",
       "       ocel:type ocel:qualifier  \n",
       "11595     orders           None  \n",
       "11596   products           None  \n",
       "11597  customers           None  \n",
       "11598      items           None  \n",
       "11599   packages           None  "
      ]
     },
     "execution_count": 54,
     "metadata": {},
     "output_type": "execute_result"
    }
   ],
   "source": [
    "ocel.relations[ocel.relations[\"ocel:eid\"]==\"1488.0\"]"
   ]
  }
 ],
 "metadata": {
  "kernelspec": {
   "display_name": "env_mb",
   "language": "python",
   "name": "python3"
  },
  "language_info": {
   "codemirror_mode": {
    "name": "ipython",
    "version": 3
   },
   "file_extension": ".py",
   "mimetype": "text/x-python",
   "name": "python",
   "nbconvert_exporter": "python",
   "pygments_lexer": "ipython3",
   "version": "3.8.0"
  },
  "orig_nbformat": 4
 },
 "nbformat": 4,
 "nbformat_minor": 2
}
